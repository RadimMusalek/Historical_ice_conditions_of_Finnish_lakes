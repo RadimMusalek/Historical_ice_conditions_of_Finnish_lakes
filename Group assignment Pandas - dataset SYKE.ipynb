{
 "cells": [
  {
   "cell_type": "markdown",
   "metadata": {},
   "source": [
    "# Group assignment Pandas - dataset SYKE"
   ]
  },
  {
   "cell_type": "markdown",
   "metadata": {},
   "source": [
    "For this part of the assignment we decided to utilise the open data provided by the Finnish Environment Institute (SYKE), section Hydrology on their website https://www.syke.fi/en-US/Open_information/Open_web_services/Environmental_data_API.\n",
    "\n",
    "For downloading and saving the data in the CSV format we used https://pragmatiqa.com/xodata/# to be able to download the data in batches up to 50000 lines as the SYKE's API doesn't allow automatically to download batches bigger than 500 lines.\n",
    "\n",
    "Our goal will be combining SYKE's datasets on the ice thickness and water temperature in Finnish lakes over the history when these have been measured and analyse the changes over this time frame. We retrieved various simple datasets from the SYKE's database which will be merged together to get more comprehensive data for further analysis. Since each dataset is dependent on the temperature developments in the past we'd expect a strong correlation across all data from these datasets.\n",
    "\n",
    "<img src=\"https://drive.google.com/uc?export=download&id=1TDvTLatcpcrsKhrjSpiVVKBRMc-RQne8\" height=1200 width=750 alt=\"Pond hockey on Saimaa lake in Mikkeli (2018)\">\n",
    "\n",
    "                          Pond hockey on frozen Saimaa lake in Mikkeli (©Teemu Paappanen, 2018)"
   ]
  },
  {
   "cell_type": "code",
   "execution_count": 172,
   "metadata": {
    "ExecuteTime": {
     "end_time": "2020-12-07T15:07:21.432282Z",
     "start_time": "2020-12-07T15:07:21.420958Z"
    }
   },
   "outputs": [],
   "source": [
    "import pandas as pd\n",
    "import numpy as np"
   ]
  },
  {
   "cell_type": "markdown",
   "metadata": {},
   "source": [
    "## Combining data of ice thickness"
   ]
  },
  {
   "cell_type": "markdown",
   "metadata": {},
   "source": [
    "All files are saved as csv so we used the Pandas read_csv() function to load them into Jupyter notebook."
   ]
  },
  {
   "cell_type": "code",
   "execution_count": 173,
   "metadata": {
    "ExecuteTime": {
     "end_time": "2020-12-07T15:07:23.407775Z",
     "start_time": "2020-12-07T15:07:23.263454Z"
    }
   },
   "outputs": [],
   "source": [
    "ice_thickness1 = pd.read_csv(\"Ice_thickness_1_4.csv\", sep=\",\")\n",
    "ice_thickness2 = pd.read_csv(\"Ice_thickness_2_4.csv\", sep=\",\")\n",
    "ice_thickness3 = pd.read_csv(\"Ice_thickness_3_4.csv\", sep=\",\")\n",
    "ice_thickness4 = pd.read_csv(\"Ice_thickness_4_4.csv\", sep=\",\")"
   ]
  },
  {
   "cell_type": "markdown",
   "metadata": {},
   "source": [
    "During the download process from the SYKE's API the dates at the end of each but last files were cut in the middle and then started from the beginning in the following file. This fact is visible when presenting the last and first couple of rows of the files below and will have to be addressed when merging the files together."
   ]
  },
  {
   "cell_type": "code",
   "execution_count": 174,
   "metadata": {
    "ExecuteTime": {
     "end_time": "2020-12-07T15:07:25.808030Z",
     "start_time": "2020-12-07T15:07:25.741243Z"
    }
   },
   "outputs": [
    {
     "name": "stdout",
     "output_type": "stream",
     "text": [
      "       Paikka_Id                 Aika  Arvo  Lippu_Id\n",
      "49998        495  1987-03-20T00:00:00    22        37\n",
      "49999        496  1987-03-20T00:00:00    21        37 \n",
      "\n",
      "   Paikka_Id                 Aika  Arvo  Lippu_Id\n",
      "0        401  1987-03-20T00:00:00    17        37\n",
      "1        402  1987-03-20T00:00:00    18        37 \n",
      "\n",
      "       Paikka_Id                 Aika  Arvo  Lippu_Id\n",
      "49998        413  2000-02-28T00:00:00    52        41\n",
      "49999        421  2000-02-28T00:00:00    39        41 \n",
      "\n",
      "   Paikka_Id                 Aika  Arvo  Lippu_Id\n",
      "0        402  2000-02-28T00:00:00     0        37\n",
      "1        409  2000-02-28T00:00:00    19        37 \n",
      "\n",
      "       Paikka_Id                 Aika  Arvo  Lippu_Id\n",
      "49998        495  2016-11-20T00:00:00     0        37\n",
      "49999        503  2016-11-20T00:00:00     0        37 \n",
      "\n",
      "   Paikka_Id                 Aika  Arvo  Lippu_Id\n",
      "0        449  2016-11-20T00:00:00     0        37\n",
      "1        470  2016-11-20T00:00:00     0        37 \n",
      "\n",
      "       Paikka_Id                 Aika  Arvo  Lippu_Id\n",
      "14866       2587  2020-11-21T00:00:00     0        41\n",
      "14867        527  2020-11-25T00:00:00     0        43\n"
     ]
    }
   ],
   "source": [
    "print(ice_thickness1.tail(2), \"\\n\")\n",
    "print(ice_thickness2.head(2), \"\\n\")\n",
    "print(ice_thickness2.tail(2), \"\\n\")\n",
    "print(ice_thickness3.head(2), \"\\n\")\n",
    "print(ice_thickness3.tail(2), \"\\n\")\n",
    "print(ice_thickness4.head(2), \"\\n\")\n",
    "print(ice_thickness4.tail(2))"
   ]
  },
  {
   "cell_type": "markdown",
   "metadata": {},
   "source": [
    "We'll merge all 4 files together to create a single DataFrame and also rename the columns by their English translations."
   ]
  },
  {
   "cell_type": "code",
   "execution_count": 175,
   "metadata": {
    "ExecuteTime": {
     "end_time": "2020-12-07T15:07:27.782425Z",
     "start_time": "2020-12-07T15:07:27.752364Z"
    }
   },
   "outputs": [],
   "source": [
    "ice_thickness = pd.concat([ice_thickness1,ice_thickness2,ice_thickness3,ice_thickness4])\n",
    "ice_thickness.reset_index(inplace=True, drop=True)\n",
    "ice_thickness.columns = [\"Place_Id\", \"Date\", \"Value\", \"Flag_Id\"]"
   ]
  },
  {
   "cell_type": "code",
   "execution_count": 176,
   "metadata": {
    "ExecuteTime": {
     "end_time": "2020-12-07T15:07:30.628284Z",
     "start_time": "2020-12-07T15:07:30.574821Z"
    },
    "scrolled": true
   },
   "outputs": [
    {
     "name": "stdout",
     "output_type": "stream",
     "text": [
      "<class 'pandas.core.frame.DataFrame'>\n",
      "RangeIndex: 164868 entries, 0 to 164867\n",
      "Data columns (total 4 columns):\n",
      " #   Column    Non-Null Count   Dtype \n",
      "---  ------    --------------   ----- \n",
      " 0   Place_Id  164868 non-null  int64 \n",
      " 1   Date      164868 non-null  object\n",
      " 2   Value     164868 non-null  int64 \n",
      " 3   Flag_Id   164868 non-null  int64 \n",
      "dtypes: int64(3), object(1)\n",
      "memory usage: 5.0+ MB\n"
     ]
    }
   ],
   "source": [
    "ice_thickness.info()"
   ]
  },
  {
   "cell_type": "markdown",
   "metadata": {},
   "source": [
    "As we can see in the DataFrame overview above, the **Date** column's Dtype is *object* so we'll change it to Pandas' *datetime* to be able to work with it better during our analysis. At the same time we create a column called **Place_date** by combining the **Place_Id** and **Date** columns and then remove any duplicates."
   ]
  },
  {
   "cell_type": "code",
   "execution_count": 177,
   "metadata": {
    "ExecuteTime": {
     "end_time": "2020-12-07T15:07:34.769523Z",
     "start_time": "2020-12-07T15:07:32.936279Z"
    }
   },
   "outputs": [],
   "source": [
    "ice_thickness[\"Date\"] = pd.to_datetime(ice_thickness[\"Date\"])\n",
    "ice_thickness[\"Place_date\"] = ice_thickness.Place_Id.astype(str).str.cat(ice_thickness.Date.astype(str), sep=\"_\")"
   ]
  },
  {
   "cell_type": "code",
   "execution_count": 178,
   "metadata": {
    "ExecuteTime": {
     "end_time": "2020-12-07T15:07:36.128474Z",
     "start_time": "2020-12-07T15:07:36.079822Z"
    }
   },
   "outputs": [
    {
     "name": "stdout",
     "output_type": "stream",
     "text": [
      "<class 'pandas.core.frame.DataFrame'>\n",
      "RangeIndex: 164868 entries, 0 to 164867\n",
      "Data columns (total 5 columns):\n",
      " #   Column      Non-Null Count   Dtype         \n",
      "---  ------      --------------   -----         \n",
      " 0   Place_Id    164868 non-null  int64         \n",
      " 1   Date        164868 non-null  datetime64[ns]\n",
      " 2   Value       164868 non-null  int64         \n",
      " 3   Flag_Id     164868 non-null  int64         \n",
      " 4   Place_date  164868 non-null  object        \n",
      "dtypes: datetime64[ns](1), int64(3), object(1)\n",
      "memory usage: 6.3+ MB\n"
     ]
    }
   ],
   "source": [
    "ice_thickness.info()"
   ]
  },
  {
   "cell_type": "code",
   "execution_count": 179,
   "metadata": {
    "ExecuteTime": {
     "end_time": "2020-12-07T15:07:40.043929Z",
     "start_time": "2020-12-07T15:07:39.964150Z"
    }
   },
   "outputs": [],
   "source": [
    "ice_thickness.drop_duplicates(inplace=True)"
   ]
  },
  {
   "cell_type": "code",
   "execution_count": 180,
   "metadata": {
    "ExecuteTime": {
     "end_time": "2020-12-07T15:07:40.912842Z",
     "start_time": "2020-12-07T15:07:40.877019Z"
    },
    "scrolled": true
   },
   "outputs": [
    {
     "name": "stdout",
     "output_type": "stream",
     "text": [
      "<class 'pandas.core.frame.DataFrame'>\n",
      "Int64Index: 164748 entries, 0 to 164867\n",
      "Data columns (total 5 columns):\n",
      " #   Column      Non-Null Count   Dtype         \n",
      "---  ------      --------------   -----         \n",
      " 0   Place_Id    164748 non-null  int64         \n",
      " 1   Date        164748 non-null  datetime64[ns]\n",
      " 2   Value       164748 non-null  int64         \n",
      " 3   Flag_Id     164748 non-null  int64         \n",
      " 4   Place_date  164748 non-null  object        \n",
      "dtypes: datetime64[ns](1), int64(3), object(1)\n",
      "memory usage: 7.5+ MB\n"
     ]
    }
   ],
   "source": [
    "ice_thickness.info()"
   ]
  },
  {
   "cell_type": "markdown",
   "metadata": {},
   "source": [
    "At last we'll check whether there's any missing data and if so remove such rows from the DataFrame."
   ]
  },
  {
   "cell_type": "code",
   "execution_count": 181,
   "metadata": {
    "ExecuteTime": {
     "end_time": "2020-12-07T15:07:44.531115Z",
     "start_time": "2020-12-07T15:07:44.483568Z"
    }
   },
   "outputs": [
    {
     "data": {
      "text/plain": [
       "Place_Id      0\n",
       "Date          0\n",
       "Value         0\n",
       "Flag_Id       0\n",
       "Place_date    0\n",
       "dtype: int64"
      ]
     },
     "execution_count": 181,
     "metadata": {},
     "output_type": "execute_result"
    }
   ],
   "source": [
    "ice_thickness.isna().sum()"
   ]
  },
  {
   "cell_type": "markdown",
   "metadata": {},
   "source": [
    "## Combining data of water temperatures"
   ]
  },
  {
   "cell_type": "markdown",
   "metadata": {},
   "source": [
    "Again all files are saved as csv so we used the Pandas read_csv() function to load them into Jupyter notebook. However, since there's 10 files in total this time we'll use a for-loop to simplify the DataFrame creation process."
   ]
  },
  {
   "cell_type": "code",
   "execution_count": 182,
   "metadata": {
    "ExecuteTime": {
     "end_time": "2020-12-07T15:07:51.152350Z",
     "start_time": "2020-12-07T15:07:50.697803Z"
    }
   },
   "outputs": [],
   "source": [
    "water_temperature = pd.read_csv(\"Surface_Water_Temperature_1_10.csv\", sep=\",\")\n",
    "for i in range(2,11):\n",
    "    water_file = pd.read_csv(f\"Surface_Water_Temperature_{i}_10.csv\", sep=\",\")\n",
    "    water_temperature = water_temperature.append(water_file)\n",
    "\n",
    "water_temperature.reset_index(inplace=True, drop=True)"
   ]
  },
  {
   "cell_type": "code",
   "execution_count": 183,
   "metadata": {
    "ExecuteTime": {
     "end_time": "2020-12-07T15:07:52.728929Z",
     "start_time": "2020-12-07T15:07:52.653498Z"
    }
   },
   "outputs": [
    {
     "name": "stdout",
     "output_type": "stream",
     "text": [
      "<class 'pandas.core.frame.DataFrame'>\n",
      "RangeIndex: 473104 entries, 0 to 473103\n",
      "Data columns (total 3 columns):\n",
      " #   Column     Non-Null Count   Dtype  \n",
      "---  ------     --------------   -----  \n",
      " 0   Paikka_Id  473104 non-null  int64  \n",
      " 1   Aika       473104 non-null  object \n",
      " 2   Arvo       473104 non-null  float64\n",
      "dtypes: float64(1), int64(1), object(1)\n",
      "memory usage: 10.8+ MB\n"
     ]
    }
   ],
   "source": [
    "water_temperature.info()"
   ]
  },
  {
   "cell_type": "code",
   "execution_count": 184,
   "metadata": {
    "ExecuteTime": {
     "end_time": "2020-12-07T15:07:54.230604Z",
     "start_time": "2020-12-07T15:07:54.205609Z"
    }
   },
   "outputs": [
    {
     "data": {
      "text/html": [
       "<div>\n",
       "<style scoped>\n",
       "    .dataframe tbody tr th:only-of-type {\n",
       "        vertical-align: middle;\n",
       "    }\n",
       "\n",
       "    .dataframe tbody tr th {\n",
       "        vertical-align: top;\n",
       "    }\n",
       "\n",
       "    .dataframe thead th {\n",
       "        text-align: right;\n",
       "    }\n",
       "</style>\n",
       "<table border=\"1\" class=\"dataframe\">\n",
       "  <thead>\n",
       "    <tr style=\"text-align: right;\">\n",
       "      <th></th>\n",
       "      <th>Paikka_Id</th>\n",
       "      <th>Aika</th>\n",
       "      <th>Arvo</th>\n",
       "    </tr>\n",
       "  </thead>\n",
       "  <tbody>\n",
       "    <tr>\n",
       "      <th>0</th>\n",
       "      <td>1667</td>\n",
       "      <td>1916-04-30T00:00:00</td>\n",
       "      <td>1.0</td>\n",
       "    </tr>\n",
       "    <tr>\n",
       "      <th>1</th>\n",
       "      <td>1667</td>\n",
       "      <td>1916-05-01T00:00:00</td>\n",
       "      <td>1.0</td>\n",
       "    </tr>\n",
       "    <tr>\n",
       "      <th>2</th>\n",
       "      <td>1667</td>\n",
       "      <td>1916-05-02T00:00:00</td>\n",
       "      <td>1.0</td>\n",
       "    </tr>\n",
       "    <tr>\n",
       "      <th>3</th>\n",
       "      <td>1667</td>\n",
       "      <td>1916-05-03T00:00:00</td>\n",
       "      <td>2.0</td>\n",
       "    </tr>\n",
       "    <tr>\n",
       "      <th>4</th>\n",
       "      <td>1667</td>\n",
       "      <td>1916-05-04T00:00:00</td>\n",
       "      <td>2.0</td>\n",
       "    </tr>\n",
       "  </tbody>\n",
       "</table>\n",
       "</div>"
      ],
      "text/plain": [
       "   Paikka_Id                 Aika  Arvo\n",
       "0       1667  1916-04-30T00:00:00   1.0\n",
       "1       1667  1916-05-01T00:00:00   1.0\n",
       "2       1667  1916-05-02T00:00:00   1.0\n",
       "3       1667  1916-05-03T00:00:00   2.0\n",
       "4       1667  1916-05-04T00:00:00   2.0"
      ]
     },
     "execution_count": 184,
     "metadata": {},
     "output_type": "execute_result"
    }
   ],
   "source": [
    "water_temperature.head()"
   ]
  },
  {
   "cell_type": "code",
   "execution_count": 185,
   "metadata": {
    "ExecuteTime": {
     "end_time": "2020-12-07T15:07:55.056814Z",
     "start_time": "2020-12-07T15:07:55.031961Z"
    }
   },
   "outputs": [
    {
     "data": {
      "text/html": [
       "<div>\n",
       "<style scoped>\n",
       "    .dataframe tbody tr th:only-of-type {\n",
       "        vertical-align: middle;\n",
       "    }\n",
       "\n",
       "    .dataframe tbody tr th {\n",
       "        vertical-align: top;\n",
       "    }\n",
       "\n",
       "    .dataframe thead th {\n",
       "        text-align: right;\n",
       "    }\n",
       "</style>\n",
       "<table border=\"1\" class=\"dataframe\">\n",
       "  <thead>\n",
       "    <tr style=\"text-align: right;\">\n",
       "      <th></th>\n",
       "      <th>Paikka_Id</th>\n",
       "      <th>Aika</th>\n",
       "      <th>Arvo</th>\n",
       "    </tr>\n",
       "  </thead>\n",
       "  <tbody>\n",
       "    <tr>\n",
       "      <th>473099</th>\n",
       "      <td>2604</td>\n",
       "      <td>2020-11-26T00:00:00</td>\n",
       "      <td>4.7</td>\n",
       "    </tr>\n",
       "    <tr>\n",
       "      <th>473100</th>\n",
       "      <td>2605</td>\n",
       "      <td>2020-11-26T00:00:00</td>\n",
       "      <td>5.6</td>\n",
       "    </tr>\n",
       "    <tr>\n",
       "      <th>473101</th>\n",
       "      <td>2606</td>\n",
       "      <td>2020-11-26T00:00:00</td>\n",
       "      <td>3.4</td>\n",
       "    </tr>\n",
       "    <tr>\n",
       "      <th>473102</th>\n",
       "      <td>2608</td>\n",
       "      <td>2020-11-26T00:00:00</td>\n",
       "      <td>0.2</td>\n",
       "    </tr>\n",
       "    <tr>\n",
       "      <th>473103</th>\n",
       "      <td>3094</td>\n",
       "      <td>2020-11-26T00:00:00</td>\n",
       "      <td>4.5</td>\n",
       "    </tr>\n",
       "  </tbody>\n",
       "</table>\n",
       "</div>"
      ],
      "text/plain": [
       "        Paikka_Id                 Aika  Arvo\n",
       "473099       2604  2020-11-26T00:00:00   4.7\n",
       "473100       2605  2020-11-26T00:00:00   5.6\n",
       "473101       2606  2020-11-26T00:00:00   3.4\n",
       "473102       2608  2020-11-26T00:00:00   0.2\n",
       "473103       3094  2020-11-26T00:00:00   4.5"
      ]
     },
     "execution_count": 185,
     "metadata": {},
     "output_type": "execute_result"
    }
   ],
   "source": [
    "water_temperature.tail()"
   ]
  },
  {
   "cell_type": "markdown",
   "metadata": {},
   "source": [
    "As in the ice thickness DataFrame also in this case we'll change the **Date** column Dtype to *datetime*, create a new column called **Place_date** by combining the **Place_Id** and **Date** columns and then remove any duplicates."
   ]
  },
  {
   "cell_type": "code",
   "execution_count": 186,
   "metadata": {
    "ExecuteTime": {
     "end_time": "2020-12-07T15:08:08.169775Z",
     "start_time": "2020-12-07T15:08:06.398159Z"
    }
   },
   "outputs": [],
   "source": [
    "water_temperature.columns = [\"Place_Id\", \"Date\", \"Value\"]\n",
    "water_temperature[\"Date\"] = pd.to_datetime(water_temperature[\"Date\"])\n",
    "water_temperature[\"Place_date\"] = water_temperature.Place_Id.astype(str).str.cat(water_temperature.Date.astype(str), sep=\"_\")"
   ]
  },
  {
   "cell_type": "code",
   "execution_count": 187,
   "metadata": {
    "ExecuteTime": {
     "end_time": "2020-12-07T15:08:08.407473Z",
     "start_time": "2020-12-07T15:08:08.343022Z"
    }
   },
   "outputs": [
    {
     "name": "stdout",
     "output_type": "stream",
     "text": [
      "<class 'pandas.core.frame.DataFrame'>\n",
      "RangeIndex: 473104 entries, 0 to 473103\n",
      "Data columns (total 4 columns):\n",
      " #   Column      Non-Null Count   Dtype         \n",
      "---  ------      --------------   -----         \n",
      " 0   Place_Id    473104 non-null  int64         \n",
      " 1   Date        473104 non-null  datetime64[ns]\n",
      " 2   Value       473104 non-null  float64       \n",
      " 3   Place_date  473104 non-null  object        \n",
      "dtypes: datetime64[ns](1), float64(1), int64(1), object(1)\n",
      "memory usage: 14.4+ MB\n"
     ]
    }
   ],
   "source": [
    "water_temperature.info()"
   ]
  },
  {
   "cell_type": "code",
   "execution_count": 188,
   "metadata": {
    "ExecuteTime": {
     "end_time": "2020-12-07T15:08:58.612908Z",
     "start_time": "2020-12-07T15:08:58.187913Z"
    }
   },
   "outputs": [],
   "source": [
    "water_temperature.drop_duplicates(inplace=True)\n",
    "water_temperature.reset_index(inplace=True, drop=True)"
   ]
  },
  {
   "cell_type": "code",
   "execution_count": 189,
   "metadata": {
    "ExecuteTime": {
     "end_time": "2020-12-07T15:08:59.513576Z",
     "start_time": "2020-12-07T15:08:59.435471Z"
    }
   },
   "outputs": [
    {
     "name": "stdout",
     "output_type": "stream",
     "text": [
      "<class 'pandas.core.frame.DataFrame'>\n",
      "RangeIndex: 472962 entries, 0 to 472961\n",
      "Data columns (total 4 columns):\n",
      " #   Column      Non-Null Count   Dtype         \n",
      "---  ------      --------------   -----         \n",
      " 0   Place_Id    472962 non-null  int64         \n",
      " 1   Date        472962 non-null  datetime64[ns]\n",
      " 2   Value       472962 non-null  float64       \n",
      " 3   Place_date  472962 non-null  object        \n",
      "dtypes: datetime64[ns](1), float64(1), int64(1), object(1)\n",
      "memory usage: 14.4+ MB\n"
     ]
    }
   ],
   "source": [
    "water_temperature.info()"
   ]
  },
  {
   "cell_type": "markdown",
   "metadata": {},
   "source": [
    "Again we'll check whether there's any missing data and if so remove such rows."
   ]
  },
  {
   "cell_type": "code",
   "execution_count": 190,
   "metadata": {
    "ExecuteTime": {
     "end_time": "2020-12-07T15:09:02.957810Z",
     "start_time": "2020-12-07T15:09:02.878788Z"
    }
   },
   "outputs": [
    {
     "data": {
      "text/plain": [
       "Place_Id      0\n",
       "Date          0\n",
       "Value         0\n",
       "Place_date    0\n",
       "dtype: int64"
      ]
     },
     "execution_count": 190,
     "metadata": {},
     "output_type": "execute_result"
    }
   ],
   "source": [
    "water_temperature.isna().sum()"
   ]
  },
  {
   "cell_type": "markdown",
   "metadata": {},
   "source": [
    "## Brief overview of both datasets"
   ]
  },
  {
   "cell_type": "code",
   "execution_count": 191,
   "metadata": {
    "ExecuteTime": {
     "end_time": "2020-12-07T15:09:08.458776Z",
     "start_time": "2020-12-07T15:09:08.208395Z"
    }
   },
   "outputs": [
    {
     "data": {
      "text/html": [
       "<div>\n",
       "<style scoped>\n",
       "    .dataframe tbody tr th:only-of-type {\n",
       "        vertical-align: middle;\n",
       "    }\n",
       "\n",
       "    .dataframe tbody tr th {\n",
       "        vertical-align: top;\n",
       "    }\n",
       "\n",
       "    .dataframe thead th {\n",
       "        text-align: right;\n",
       "    }\n",
       "</style>\n",
       "<table border=\"1\" class=\"dataframe\">\n",
       "  <thead>\n",
       "    <tr style=\"text-align: right;\">\n",
       "      <th></th>\n",
       "      <th>Place_Id</th>\n",
       "      <th>Date</th>\n",
       "      <th>Value</th>\n",
       "      <th>Flag_Id</th>\n",
       "      <th>Place_date</th>\n",
       "    </tr>\n",
       "  </thead>\n",
       "  <tbody>\n",
       "    <tr>\n",
       "      <th>count</th>\n",
       "      <td>164748.000000</td>\n",
       "      <td>164748</td>\n",
       "      <td>164748.000000</td>\n",
       "      <td>164748.000000</td>\n",
       "      <td>164748</td>\n",
       "    </tr>\n",
       "    <tr>\n",
       "      <th>unique</th>\n",
       "      <td>NaN</td>\n",
       "      <td>NaN</td>\n",
       "      <td>NaN</td>\n",
       "      <td>NaN</td>\n",
       "      <td>51857</td>\n",
       "    </tr>\n",
       "    <tr>\n",
       "      <th>top</th>\n",
       "      <td>NaN</td>\n",
       "      <td>NaN</td>\n",
       "      <td>NaN</td>\n",
       "      <td>NaN</td>\n",
       "      <td>509_2018-04-30</td>\n",
       "    </tr>\n",
       "    <tr>\n",
       "      <th>freq</th>\n",
       "      <td>NaN</td>\n",
       "      <td>NaN</td>\n",
       "      <td>NaN</td>\n",
       "      <td>NaN</td>\n",
       "      <td>7</td>\n",
       "    </tr>\n",
       "    <tr>\n",
       "      <th>mean</th>\n",
       "      <td>652.294425</td>\n",
       "      <td>1994-12-06 22:58:06.983789696</td>\n",
       "      <td>27.487593</td>\n",
       "      <td>43.028456</td>\n",
       "      <td>NaN</td>\n",
       "    </tr>\n",
       "    <tr>\n",
       "      <th>min</th>\n",
       "      <td>401.000000</td>\n",
       "      <td>1910-01-15 00:00:00</td>\n",
       "      <td>0.000000</td>\n",
       "      <td>37.000000</td>\n",
       "      <td>NaN</td>\n",
       "    </tr>\n",
       "    <tr>\n",
       "      <th>25%</th>\n",
       "      <td>440.000000</td>\n",
       "      <td>1985-03-20 00:00:00</td>\n",
       "      <td>10.000000</td>\n",
       "      <td>38.000000</td>\n",
       "      <td>NaN</td>\n",
       "    </tr>\n",
       "    <tr>\n",
       "      <th>50%</th>\n",
       "      <td>479.000000</td>\n",
       "      <td>1995-01-30 00:00:00</td>\n",
       "      <td>24.000000</td>\n",
       "      <td>40.000000</td>\n",
       "      <td>NaN</td>\n",
       "    </tr>\n",
       "    <tr>\n",
       "      <th>75%</th>\n",
       "      <td>521.000000</td>\n",
       "      <td>2008-05-10 00:00:00</td>\n",
       "      <td>43.000000</td>\n",
       "      <td>41.000000</td>\n",
       "      <td>NaN</td>\n",
       "    </tr>\n",
       "    <tr>\n",
       "      <th>max</th>\n",
       "      <td>3809.000000</td>\n",
       "      <td>2020-11-25 00:00:00</td>\n",
       "      <td>126.000000</td>\n",
       "      <td>114.000000</td>\n",
       "      <td>NaN</td>\n",
       "    </tr>\n",
       "    <tr>\n",
       "      <th>std</th>\n",
       "      <td>647.676468</td>\n",
       "      <td>NaN</td>\n",
       "      <td>20.939959</td>\n",
       "      <td>16.494750</td>\n",
       "      <td>NaN</td>\n",
       "    </tr>\n",
       "  </tbody>\n",
       "</table>\n",
       "</div>"
      ],
      "text/plain": [
       "             Place_Id                           Date          Value  \\\n",
       "count   164748.000000                         164748  164748.000000   \n",
       "unique            NaN                            NaN            NaN   \n",
       "top               NaN                            NaN            NaN   \n",
       "freq              NaN                            NaN            NaN   \n",
       "mean       652.294425  1994-12-06 22:58:06.983789696      27.487593   \n",
       "min        401.000000            1910-01-15 00:00:00       0.000000   \n",
       "25%        440.000000            1985-03-20 00:00:00      10.000000   \n",
       "50%        479.000000            1995-01-30 00:00:00      24.000000   \n",
       "75%        521.000000            2008-05-10 00:00:00      43.000000   \n",
       "max       3809.000000            2020-11-25 00:00:00     126.000000   \n",
       "std        647.676468                            NaN      20.939959   \n",
       "\n",
       "              Flag_Id      Place_date  \n",
       "count   164748.000000          164748  \n",
       "unique            NaN           51857  \n",
       "top               NaN  509_2018-04-30  \n",
       "freq              NaN               7  \n",
       "mean        43.028456             NaN  \n",
       "min         37.000000             NaN  \n",
       "25%         38.000000             NaN  \n",
       "50%         40.000000             NaN  \n",
       "75%         41.000000             NaN  \n",
       "max        114.000000             NaN  \n",
       "std         16.494750             NaN  "
      ]
     },
     "execution_count": 191,
     "metadata": {},
     "output_type": "execute_result"
    }
   ],
   "source": [
    "ice_thickness.describe(include=\"all\", datetime_is_numeric=True)"
   ]
  },
  {
   "cell_type": "code",
   "execution_count": 192,
   "metadata": {
    "ExecuteTime": {
     "end_time": "2020-12-07T15:09:11.206348Z",
     "start_time": "2020-12-07T15:09:10.389960Z"
    }
   },
   "outputs": [
    {
     "data": {
      "text/html": [
       "<div>\n",
       "<style scoped>\n",
       "    .dataframe tbody tr th:only-of-type {\n",
       "        vertical-align: middle;\n",
       "    }\n",
       "\n",
       "    .dataframe tbody tr th {\n",
       "        vertical-align: top;\n",
       "    }\n",
       "\n",
       "    .dataframe thead th {\n",
       "        text-align: right;\n",
       "    }\n",
       "</style>\n",
       "<table border=\"1\" class=\"dataframe\">\n",
       "  <thead>\n",
       "    <tr style=\"text-align: right;\">\n",
       "      <th></th>\n",
       "      <th>Place_Id</th>\n",
       "      <th>Date</th>\n",
       "      <th>Value</th>\n",
       "      <th>Place_date</th>\n",
       "    </tr>\n",
       "  </thead>\n",
       "  <tbody>\n",
       "    <tr>\n",
       "      <th>count</th>\n",
       "      <td>472962.000000</td>\n",
       "      <td>472962</td>\n",
       "      <td>472962.000000</td>\n",
       "      <td>472962</td>\n",
       "    </tr>\n",
       "    <tr>\n",
       "      <th>unique</th>\n",
       "      <td>NaN</td>\n",
       "      <td>NaN</td>\n",
       "      <td>NaN</td>\n",
       "      <td>472962</td>\n",
       "    </tr>\n",
       "    <tr>\n",
       "      <th>top</th>\n",
       "      <td>NaN</td>\n",
       "      <td>NaN</td>\n",
       "      <td>NaN</td>\n",
       "      <td>1658_1998-11-04 00:00:00</td>\n",
       "    </tr>\n",
       "    <tr>\n",
       "      <th>freq</th>\n",
       "      <td>NaN</td>\n",
       "      <td>NaN</td>\n",
       "      <td>NaN</td>\n",
       "      <td>1</td>\n",
       "    </tr>\n",
       "    <tr>\n",
       "      <th>mean</th>\n",
       "      <td>1795.825096</td>\n",
       "      <td>1984-06-12 08:01:03.024093312</td>\n",
       "      <td>10.261295</td>\n",
       "      <td>NaN</td>\n",
       "    </tr>\n",
       "    <tr>\n",
       "      <th>min</th>\n",
       "      <td>1657.000000</td>\n",
       "      <td>1916-04-30 00:00:00</td>\n",
       "      <td>0.000000</td>\n",
       "      <td>NaN</td>\n",
       "    </tr>\n",
       "    <tr>\n",
       "      <th>25%</th>\n",
       "      <td>1670.000000</td>\n",
       "      <td>1970-09-01 00:00:00</td>\n",
       "      <td>3.800000</td>\n",
       "      <td>NaN</td>\n",
       "    </tr>\n",
       "    <tr>\n",
       "      <th>50%</th>\n",
       "      <td>1685.000000</td>\n",
       "      <td>1983-01-17 00:00:00</td>\n",
       "      <td>10.900000</td>\n",
       "      <td>NaN</td>\n",
       "    </tr>\n",
       "    <tr>\n",
       "      <th>75%</th>\n",
       "      <td>1707.000000</td>\n",
       "      <td>2002-07-02 00:00:00</td>\n",
       "      <td>16.200000</td>\n",
       "      <td>NaN</td>\n",
       "    </tr>\n",
       "    <tr>\n",
       "      <th>max</th>\n",
       "      <td>3485.000000</td>\n",
       "      <td>2020-11-26 00:00:00</td>\n",
       "      <td>28.800000</td>\n",
       "      <td>NaN</td>\n",
       "    </tr>\n",
       "    <tr>\n",
       "      <th>std</th>\n",
       "      <td>326.195987</td>\n",
       "      <td>NaN</td>\n",
       "      <td>6.787038</td>\n",
       "      <td>NaN</td>\n",
       "    </tr>\n",
       "  </tbody>\n",
       "</table>\n",
       "</div>"
      ],
      "text/plain": [
       "             Place_Id                           Date          Value  \\\n",
       "count   472962.000000                         472962  472962.000000   \n",
       "unique            NaN                            NaN            NaN   \n",
       "top               NaN                            NaN            NaN   \n",
       "freq              NaN                            NaN            NaN   \n",
       "mean      1795.825096  1984-06-12 08:01:03.024093312      10.261295   \n",
       "min       1657.000000            1916-04-30 00:00:00       0.000000   \n",
       "25%       1670.000000            1970-09-01 00:00:00       3.800000   \n",
       "50%       1685.000000            1983-01-17 00:00:00      10.900000   \n",
       "75%       1707.000000            2002-07-02 00:00:00      16.200000   \n",
       "max       3485.000000            2020-11-26 00:00:00      28.800000   \n",
       "std        326.195987                            NaN       6.787038   \n",
       "\n",
       "                      Place_date  \n",
       "count                     472962  \n",
       "unique                    472962  \n",
       "top     1658_1998-11-04 00:00:00  \n",
       "freq                           1  \n",
       "mean                         NaN  \n",
       "min                          NaN  \n",
       "25%                          NaN  \n",
       "50%                          NaN  \n",
       "75%                          NaN  \n",
       "max                          NaN  \n",
       "std                          NaN  "
      ]
     },
     "execution_count": 192,
     "metadata": {},
     "output_type": "execute_result"
    }
   ],
   "source": [
    "water_temperature.describe(include=\"all\", datetime_is_numeric=True)"
   ]
  },
  {
   "cell_type": "markdown",
   "metadata": {},
   "source": [
    "From the overviews above ..."
   ]
  },
  {
   "cell_type": "code",
   "execution_count": 210,
   "metadata": {
    "ExecuteTime": {
     "end_time": "2020-12-07T15:30:01.175620Z",
     "start_time": "2020-12-07T15:30:01.134677Z"
    }
   },
   "outputs": [
    {
     "data": {
      "text/plain": [
       "41     51657\n",
       "37     34141\n",
       "38     32185\n",
       "40     23718\n",
       "39     14270\n",
       "112     2920\n",
       "114     2857\n",
       "113     2824\n",
       "43       176\n",
       "Name: Flag_Id, dtype: int64"
      ]
     },
     "execution_count": 210,
     "metadata": {},
     "output_type": "execute_result"
    }
   ],
   "source": [
    "ice_thickness[\"Flag_Id\"].value_counts()"
   ]
  },
  {
   "cell_type": "code",
   "execution_count": 254,
   "metadata": {
    "ExecuteTime": {
     "end_time": "2020-12-07T16:07:17.279075Z",
     "start_time": "2020-12-07T16:07:17.262964Z"
    }
   },
   "outputs": [],
   "source": [
    "flag_ids = list(ice_thickness[\"Flag_Id\"].unique())\n"
   ]
  },
  {
   "cell_type": "code",
   "execution_count": 255,
   "metadata": {
    "ExecuteTime": {
     "end_time": "2020-12-07T16:07:18.361007Z",
     "start_time": "2020-12-07T16:07:18.343935Z"
    }
   },
   "outputs": [
    {
     "data": {
      "text/plain": [
       "[41, 37, 38, 40, 39, 112, 113, 114, 43]"
      ]
     },
     "execution_count": 255,
     "metadata": {},
     "output_type": "execute_result"
    }
   ],
   "source": [
    "flag_ids"
   ]
  },
  {
   "cell_type": "code",
   "execution_count": 199,
   "metadata": {
    "ExecuteTime": {
     "end_time": "2020-12-07T15:23:49.926655Z",
     "start_time": "2020-12-07T15:23:49.911325Z"
    }
   },
   "outputs": [],
   "source": [
    "lippu_file = pd.read_json(\"Lippu.json\")"
   ]
  },
  {
   "cell_type": "code",
   "execution_count": 202,
   "metadata": {
    "ExecuteTime": {
     "end_time": "2020-12-07T15:25:38.291524Z",
     "start_time": "2020-12-07T15:25:38.227740Z"
    }
   },
   "outputs": [
    {
     "data": {
      "text/html": [
       "<div>\n",
       "<style scoped>\n",
       "    .dataframe tbody tr th:only-of-type {\n",
       "        vertical-align: middle;\n",
       "    }\n",
       "\n",
       "    .dataframe tbody tr th {\n",
       "        vertical-align: top;\n",
       "    }\n",
       "\n",
       "    .dataframe thead th {\n",
       "        text-align: right;\n",
       "    }\n",
       "</style>\n",
       "<table border=\"1\" class=\"dataframe\">\n",
       "  <thead>\n",
       "    <tr style=\"text-align: right;\">\n",
       "      <th></th>\n",
       "      <th>odata.metadata</th>\n",
       "      <th>value</th>\n",
       "    </tr>\n",
       "  </thead>\n",
       "  <tbody>\n",
       "    <tr>\n",
       "      <th>0</th>\n",
       "      <td>http://rajapinnat.ymparisto.fi/api/Hydrologiar...</td>\n",
       "      <td>{'Lippu_id': 1, 'LippuKoodi': '*', 'Kuvaus': '...</td>\n",
       "    </tr>\n",
       "    <tr>\n",
       "      <th>1</th>\n",
       "      <td>http://rajapinnat.ymparisto.fi/api/Hydrologiar...</td>\n",
       "      <td>{'Lippu_id': 2, 'LippuKoodi': '\"', 'Kuvaus': '...</td>\n",
       "    </tr>\n",
       "    <tr>\n",
       "      <th>2</th>\n",
       "      <td>http://rajapinnat.ymparisto.fi/api/Hydrologiar...</td>\n",
       "      <td>{'Lippu_id': 3, 'LippuKoodi': '=', 'Kuvaus': '...</td>\n",
       "    </tr>\n",
       "    <tr>\n",
       "      <th>3</th>\n",
       "      <td>http://rajapinnat.ymparisto.fi/api/Hydrologiar...</td>\n",
       "      <td>{'Lippu_id': 4, 'LippuKoodi': '!', 'Kuvaus': '...</td>\n",
       "    </tr>\n",
       "    <tr>\n",
       "      <th>4</th>\n",
       "      <td>http://rajapinnat.ymparisto.fi/api/Hydrologiar...</td>\n",
       "      <td>{'Lippu_id': 5, 'LippuKoodi': '00', 'Kuvaus': ...</td>\n",
       "    </tr>\n",
       "  </tbody>\n",
       "</table>\n",
       "</div>"
      ],
      "text/plain": [
       "                                      odata.metadata  \\\n",
       "0  http://rajapinnat.ymparisto.fi/api/Hydrologiar...   \n",
       "1  http://rajapinnat.ymparisto.fi/api/Hydrologiar...   \n",
       "2  http://rajapinnat.ymparisto.fi/api/Hydrologiar...   \n",
       "3  http://rajapinnat.ymparisto.fi/api/Hydrologiar...   \n",
       "4  http://rajapinnat.ymparisto.fi/api/Hydrologiar...   \n",
       "\n",
       "                                               value  \n",
       "0  {'Lippu_id': 1, 'LippuKoodi': '*', 'Kuvaus': '...  \n",
       "1  {'Lippu_id': 2, 'LippuKoodi': '\"', 'Kuvaus': '...  \n",
       "2  {'Lippu_id': 3, 'LippuKoodi': '=', 'Kuvaus': '...  \n",
       "3  {'Lippu_id': 4, 'LippuKoodi': '!', 'Kuvaus': '...  \n",
       "4  {'Lippu_id': 5, 'LippuKoodi': '00', 'Kuvaus': ...  "
      ]
     },
     "execution_count": 202,
     "metadata": {},
     "output_type": "execute_result"
    }
   ],
   "source": [
    "lippu_file.head()"
   ]
  },
  {
   "cell_type": "code",
   "execution_count": 207,
   "metadata": {
    "ExecuteTime": {
     "end_time": "2020-12-07T15:29:01.133656Z",
     "start_time": "2020-12-07T15:29:01.112698Z"
    }
   },
   "outputs": [],
   "source": [
    "lippu = pd.json_normalize(data=lippu_file[\"value\"])"
   ]
  },
  {
   "cell_type": "code",
   "execution_count": 218,
   "metadata": {
    "ExecuteTime": {
     "end_time": "2020-12-07T15:33:30.706496Z",
     "start_time": "2020-12-07T15:33:30.627715Z"
    }
   },
   "outputs": [
    {
     "data": {
      "text/html": [
       "<div>\n",
       "<style scoped>\n",
       "    .dataframe tbody tr th:only-of-type {\n",
       "        vertical-align: middle;\n",
       "    }\n",
       "\n",
       "    .dataframe tbody tr th {\n",
       "        vertical-align: top;\n",
       "    }\n",
       "\n",
       "    .dataframe thead th {\n",
       "        text-align: right;\n",
       "    }\n",
       "</style>\n",
       "<table border=\"1\" class=\"dataframe\">\n",
       "  <thead>\n",
       "    <tr style=\"text-align: right;\">\n",
       "      <th></th>\n",
       "      <th>Lippu_id</th>\n",
       "      <th>LippuKoodi</th>\n",
       "      <th>Kuvaus</th>\n",
       "      <th>KuvausEng</th>\n",
       "    </tr>\n",
       "  </thead>\n",
       "  <tbody>\n",
       "    <tr>\n",
       "      <th>0</th>\n",
       "      <td>1</td>\n",
       "      <td>*</td>\n",
       "      <td>Interpoloitu</td>\n",
       "      <td>None</td>\n",
       "    </tr>\n",
       "    <tr>\n",
       "      <th>1</th>\n",
       "      <td>2</td>\n",
       "      <td>\"</td>\n",
       "      <td>Muu vertailu</td>\n",
       "      <td>None</td>\n",
       "    </tr>\n",
       "    <tr>\n",
       "      <th>2</th>\n",
       "      <td>3</td>\n",
       "      <td>=</td>\n",
       "      <td>Redukoitu</td>\n",
       "      <td>None</td>\n",
       "    </tr>\n",
       "    <tr>\n",
       "      <th>3</th>\n",
       "      <td>4</td>\n",
       "      <td>!</td>\n",
       "      <td>Mahdollisesti virheellinen arvo</td>\n",
       "      <td>None</td>\n",
       "    </tr>\n",
       "    <tr>\n",
       "      <th>4</th>\n",
       "      <td>5</td>\n",
       "      <td>00</td>\n",
       "      <td>Ei huomauttamista</td>\n",
       "      <td>None</td>\n",
       "    </tr>\n",
       "  </tbody>\n",
       "</table>\n",
       "</div>"
      ],
      "text/plain": [
       "   Lippu_id LippuKoodi                           Kuvaus KuvausEng\n",
       "0         1          *                     Interpoloitu      None\n",
       "1         2          \"                     Muu vertailu      None\n",
       "2         3          =                        Redukoitu      None\n",
       "3         4          !  Mahdollisesti virheellinen arvo      None\n",
       "4         5         00                Ei huomauttamista      None"
      ]
     },
     "execution_count": 218,
     "metadata": {},
     "output_type": "execute_result"
    }
   ],
   "source": [
    "lippu.head()"
   ]
  },
  {
   "cell_type": "code",
   "execution_count": 228,
   "metadata": {
    "ExecuteTime": {
     "end_time": "2020-12-07T15:41:38.397105Z",
     "start_time": "2020-12-07T15:41:38.346198Z"
    }
   },
   "outputs": [
    {
     "data": {
      "text/html": [
       "<div>\n",
       "<style scoped>\n",
       "    .dataframe tbody tr th:only-of-type {\n",
       "        vertical-align: middle;\n",
       "    }\n",
       "\n",
       "    .dataframe tbody tr th {\n",
       "        vertical-align: top;\n",
       "    }\n",
       "\n",
       "    .dataframe thead th {\n",
       "        text-align: right;\n",
       "    }\n",
       "</style>\n",
       "<table border=\"1\" class=\"dataframe\">\n",
       "  <thead>\n",
       "    <tr style=\"text-align: right;\">\n",
       "      <th></th>\n",
       "      <th>Lippu_id</th>\n",
       "      <th>LippuKoodi</th>\n",
       "      <th>Kuvaus</th>\n",
       "      <th>KuvausEng</th>\n",
       "    </tr>\n",
       "  </thead>\n",
       "  <tbody>\n",
       "    <tr>\n",
       "      <th>35</th>\n",
       "      <td>37</td>\n",
       "      <td>Lumen syvyys</td>\n",
       "      <td>Lumen syvyys kairausreiän päältä (cm)</td>\n",
       "      <td>None</td>\n",
       "    </tr>\n",
       "    <tr>\n",
       "      <th>36</th>\n",
       "      <td>38</td>\n",
       "      <td>Veden pinta</td>\n",
       "      <td>Veden korkeus jään alareunasta veden pintaan (cm)</td>\n",
       "      <td>None</td>\n",
       "    </tr>\n",
       "    <tr>\n",
       "      <th>37</th>\n",
       "      <td>39</td>\n",
       "      <td>Kohvasauva</td>\n",
       "      <td>Sauvasta luetun lumen tai lumettoman jään kork...</td>\n",
       "      <td>None</td>\n",
       "    </tr>\n",
       "    <tr>\n",
       "      <th>38</th>\n",
       "      <td>40</td>\n",
       "      <td>Kohva+Vesikerros</td>\n",
       "      <td>Kairausreiästä mitatun kohvan paksuus (cm) + J...</td>\n",
       "      <td>None</td>\n",
       "    </tr>\n",
       "    <tr>\n",
       "      <th>39</th>\n",
       "      <td>41</td>\n",
       "      <td>Jäänpaksuus</td>\n",
       "      <td>Jään kokonaispaksuus alareunasta yläreunaan (cm)</td>\n",
       "      <td>None</td>\n",
       "    </tr>\n",
       "    <tr>\n",
       "      <th>41</th>\n",
       "      <td>43</td>\n",
       "      <td>Heikko jää</td>\n",
       "      <td>Jäätä on näköpiirissä, mutta se on liian heikk...</td>\n",
       "      <td>None</td>\n",
       "    </tr>\n",
       "    <tr>\n",
       "      <th>57</th>\n",
       "      <td>112</td>\n",
       "      <td>Kohva</td>\n",
       "      <td>Kairausreiästä mitatun kohvan paksuus (cm)</td>\n",
       "      <td>None</td>\n",
       "    </tr>\n",
       "    <tr>\n",
       "      <th>58</th>\n",
       "      <td>113</td>\n",
       "      <td>Teräsjää</td>\n",
       "      <td>Kairausreiästä mitatun teräsjään paksuus (cm)</td>\n",
       "      <td>None</td>\n",
       "    </tr>\n",
       "    <tr>\n",
       "      <th>59</th>\n",
       "      <td>114</td>\n",
       "      <td>Vesikerros</td>\n",
       "      <td>Jään välissä olevien mahdollisten vesikerroste...</td>\n",
       "      <td>None</td>\n",
       "    </tr>\n",
       "  </tbody>\n",
       "</table>\n",
       "</div>"
      ],
      "text/plain": [
       "    Lippu_id        LippuKoodi  \\\n",
       "35        37      Lumen syvyys   \n",
       "36        38       Veden pinta   \n",
       "37        39        Kohvasauva   \n",
       "38        40  Kohva+Vesikerros   \n",
       "39        41       Jäänpaksuus   \n",
       "41        43        Heikko jää   \n",
       "57       112             Kohva   \n",
       "58       113          Teräsjää   \n",
       "59       114        Vesikerros   \n",
       "\n",
       "                                               Kuvaus KuvausEng  \n",
       "35             Lumen syvyys kairausreiän päältä (cm)       None  \n",
       "36  Veden korkeus jään alareunasta veden pintaan (cm)      None  \n",
       "37  Sauvasta luetun lumen tai lumettoman jään kork...      None  \n",
       "38  Kairausreiästä mitatun kohvan paksuus (cm) + J...      None  \n",
       "39   Jään kokonaispaksuus alareunasta yläreunaan (cm)      None  \n",
       "41  Jäätä on näköpiirissä, mutta se on liian heikk...      None  \n",
       "57         Kairausreiästä mitatun kohvan paksuus (cm)      None  \n",
       "58      Kairausreiästä mitatun teräsjään paksuus (cm)      None  \n",
       "59  Jään välissä olevien mahdollisten vesikerroste...      None  "
      ]
     },
     "execution_count": 228,
     "metadata": {},
     "output_type": "execute_result"
    }
   ],
   "source": [
    "lippu[(lippu[\"Lippu_id\"] == 37) | (lippu[\"Lippu_id\"] == 38) | (lippu[\"Lippu_id\"] == 39) | (lippu[\"Lippu_id\"] == 40) | (lippu[\"Lippu_id\"] == 41) | (lippu[\"Lippu_id\"] == 43) | (lippu[\"Lippu_id\"] == 112) | (lippu[\"Lippu_id\"] == 113) | (lippu[\"Lippu_id\"] == 114)]\n"
   ]
  },
  {
   "cell_type": "code",
   "execution_count": 244,
   "metadata": {
    "ExecuteTime": {
     "end_time": "2020-12-07T16:04:58.492947Z",
     "start_time": "2020-12-07T16:04:58.437867Z"
    }
   },
   "outputs": [
    {
     "ename": "TypeError",
     "evalue": "unhashable type: 'numpy.ndarray'",
     "output_type": "error",
     "traceback": [
      "\u001b[0;31m---------------------------------------------------------------------------\u001b[0m",
      "\u001b[0;31mTypeError\u001b[0m                                 Traceback (most recent call last)",
      "\u001b[0;32m<ipython-input-244-e2da4547eb3a>\u001b[0m in \u001b[0;36m<module>\u001b[0;34m\u001b[0m\n\u001b[0;32m----> 1\u001b[0;31m \u001b[0mlippu\u001b[0m\u001b[0;34m[\u001b[0m\u001b[0;34m\"Lippu_id\"\u001b[0m\u001b[0;34m]\u001b[0m\u001b[0;34m.\u001b[0m\u001b[0many\u001b[0m\u001b[0;34m(\u001b[0m\u001b[0mflag_ids\u001b[0m\u001b[0;34m)\u001b[0m\u001b[0;34m\u001b[0m\u001b[0;34m\u001b[0m\u001b[0m\n\u001b[0m",
      "\u001b[0;32m~/opt/anaconda3/lib/python3.7/site-packages/pandas/core/generic.py\u001b[0m in \u001b[0;36mlogical_func\u001b[0;34m(self, axis, bool_only, skipna, level, **kwargs)\u001b[0m\n\u001b[1;32m  11578\u001b[0m             \u001b[0mskipna\u001b[0m\u001b[0;34m=\u001b[0m\u001b[0mskipna\u001b[0m\u001b[0;34m,\u001b[0m\u001b[0;34m\u001b[0m\u001b[0;34m\u001b[0m\u001b[0m\n\u001b[1;32m  11579\u001b[0m             \u001b[0mnumeric_only\u001b[0m\u001b[0;34m=\u001b[0m\u001b[0mbool_only\u001b[0m\u001b[0;34m,\u001b[0m\u001b[0;34m\u001b[0m\u001b[0;34m\u001b[0m\u001b[0m\n\u001b[0;32m> 11580\u001b[0;31m             \u001b[0mfilter_type\u001b[0m\u001b[0;34m=\u001b[0m\u001b[0;34m\"bool\"\u001b[0m\u001b[0;34m,\u001b[0m\u001b[0;34m\u001b[0m\u001b[0;34m\u001b[0m\u001b[0m\n\u001b[0m\u001b[1;32m  11581\u001b[0m         )\n\u001b[1;32m  11582\u001b[0m \u001b[0;34m\u001b[0m\u001b[0m\n",
      "\u001b[0;32m~/opt/anaconda3/lib/python3.7/site-packages/pandas/core/series.py\u001b[0m in \u001b[0;36m_reduce\u001b[0;34m(self, op, name, axis, skipna, numeric_only, filter_type, **kwds)\u001b[0m\n\u001b[1;32m   4233\u001b[0m \u001b[0;34m\u001b[0m\u001b[0m\n\u001b[1;32m   4234\u001b[0m         \u001b[0;32mif\u001b[0m \u001b[0maxis\u001b[0m \u001b[0;32mis\u001b[0m \u001b[0;32mnot\u001b[0m \u001b[0;32mNone\u001b[0m\u001b[0;34m:\u001b[0m\u001b[0;34m\u001b[0m\u001b[0;34m\u001b[0m\u001b[0m\n\u001b[0;32m-> 4235\u001b[0;31m             \u001b[0mself\u001b[0m\u001b[0;34m.\u001b[0m\u001b[0m_get_axis_number\u001b[0m\u001b[0;34m(\u001b[0m\u001b[0maxis\u001b[0m\u001b[0;34m)\u001b[0m\u001b[0;34m\u001b[0m\u001b[0;34m\u001b[0m\u001b[0m\n\u001b[0m\u001b[1;32m   4236\u001b[0m \u001b[0;34m\u001b[0m\u001b[0m\n\u001b[1;32m   4237\u001b[0m         \u001b[0;32mif\u001b[0m \u001b[0misinstance\u001b[0m\u001b[0;34m(\u001b[0m\u001b[0mdelegate\u001b[0m\u001b[0;34m,\u001b[0m \u001b[0mExtensionArray\u001b[0m\u001b[0;34m)\u001b[0m\u001b[0;34m:\u001b[0m\u001b[0;34m\u001b[0m\u001b[0;34m\u001b[0m\u001b[0m\n",
      "\u001b[0;32m~/opt/anaconda3/lib/python3.7/site-packages/pandas/core/generic.py\u001b[0m in \u001b[0;36m_get_axis_number\u001b[0;34m(cls, axis)\u001b[0m\n\u001b[1;32m    366\u001b[0m     \u001b[0;32mdef\u001b[0m \u001b[0m_get_axis_number\u001b[0m\u001b[0;34m(\u001b[0m\u001b[0mcls\u001b[0m\u001b[0;34m,\u001b[0m \u001b[0maxis\u001b[0m\u001b[0;34m:\u001b[0m \u001b[0mAxis\u001b[0m\u001b[0;34m)\u001b[0m \u001b[0;34m->\u001b[0m \u001b[0mint\u001b[0m\u001b[0;34m:\u001b[0m\u001b[0;34m\u001b[0m\u001b[0;34m\u001b[0m\u001b[0m\n\u001b[1;32m    367\u001b[0m         \u001b[0;32mtry\u001b[0m\u001b[0;34m:\u001b[0m\u001b[0;34m\u001b[0m\u001b[0;34m\u001b[0m\u001b[0m\n\u001b[0;32m--> 368\u001b[0;31m             \u001b[0;32mreturn\u001b[0m \u001b[0mcls\u001b[0m\u001b[0;34m.\u001b[0m\u001b[0m_AXIS_TO_AXIS_NUMBER\u001b[0m\u001b[0;34m[\u001b[0m\u001b[0maxis\u001b[0m\u001b[0;34m]\u001b[0m\u001b[0;34m\u001b[0m\u001b[0;34m\u001b[0m\u001b[0m\n\u001b[0m\u001b[1;32m    369\u001b[0m         \u001b[0;32mexcept\u001b[0m \u001b[0mKeyError\u001b[0m\u001b[0;34m:\u001b[0m\u001b[0;34m\u001b[0m\u001b[0;34m\u001b[0m\u001b[0m\n\u001b[1;32m    370\u001b[0m             \u001b[0;32mraise\u001b[0m \u001b[0mValueError\u001b[0m\u001b[0;34m(\u001b[0m\u001b[0;34mf\"No axis named {axis} for object type {cls.__name__}\"\u001b[0m\u001b[0;34m)\u001b[0m\u001b[0;34m\u001b[0m\u001b[0;34m\u001b[0m\u001b[0m\n",
      "\u001b[0;31mTypeError\u001b[0m: unhashable type: 'numpy.ndarray'"
     ]
    }
   ],
   "source": [
    "lippu[\"Lippu_id\"].any(flag_ids)"
   ]
  },
  {
   "cell_type": "markdown",
   "metadata": {},
   "source": [
    "Based on the analysis above we can confirm that only **Flag_Id** is relevant for our analysis because we're interested in ice thickness. The remaining flags aren't important for our analysis and therefore we'll remove them from the DataFrame."
   ]
  },
  {
   "cell_type": "code",
   "execution_count": 256,
   "metadata": {
    "ExecuteTime": {
     "end_time": "2020-12-07T16:08:27.380360Z",
     "start_time": "2020-12-07T16:08:27.368898Z"
    }
   },
   "outputs": [],
   "source": [
    "flag_ids_drop = flag_ids.copy()\n",
    "flag_ids_drop.remove(41)"
   ]
  },
  {
   "cell_type": "code",
   "execution_count": 257,
   "metadata": {
    "ExecuteTime": {
     "end_time": "2020-12-07T16:08:28.330309Z",
     "start_time": "2020-12-07T16:08:28.315704Z"
    }
   },
   "outputs": [
    {
     "name": "stdout",
     "output_type": "stream",
     "text": [
      "[37, 38, 40, 39, 112, 113, 114, 43]\n"
     ]
    }
   ],
   "source": [
    "print(flag_ids_drop)"
   ]
  },
  {
   "cell_type": "code",
   "execution_count": 259,
   "metadata": {
    "ExecuteTime": {
     "end_time": "2020-12-07T16:09:25.421265Z",
     "start_time": "2020-12-07T16:09:25.360607Z"
    }
   },
   "outputs": [
    {
     "data": {
      "text/plain": [
       "0          41\n",
       "1          41\n",
       "2          41\n",
       "3          41\n",
       "4          41\n",
       "         ... \n",
       "164863    114\n",
       "164864     41\n",
       "164865     41\n",
       "164866     41\n",
       "164867     43\n",
       "Name: Flag_Id, Length: 164740, dtype: int64"
      ]
     },
     "execution_count": 259,
     "metadata": {},
     "output_type": "execute_result"
    }
   ],
   "source": [
    "ice_thickness[\"Flag_Id\"].drop(labels=flag_ids_drop)"
   ]
  },
  {
   "cell_type": "code",
   "execution_count": null,
   "metadata": {},
   "outputs": [],
   "source": []
  }
 ],
 "metadata": {
  "kernelspec": {
   "display_name": "Python 3",
   "language": "python",
   "name": "python3"
  },
  "language_info": {
   "codemirror_mode": {
    "name": "ipython",
    "version": 3
   },
   "file_extension": ".py",
   "mimetype": "text/x-python",
   "name": "python",
   "nbconvert_exporter": "python",
   "pygments_lexer": "ipython3",
   "version": "3.7.4"
  },
  "latex_envs": {
   "LaTeX_envs_menu_present": true,
   "autoclose": false,
   "autocomplete": true,
   "bibliofile": "biblio.bib",
   "cite_by": "apalike",
   "current_citInitial": 1,
   "eqLabelWithNumbers": true,
   "eqNumInitial": 1,
   "hotkeys": {
    "equation": "Ctrl-E",
    "itemize": "Ctrl-I"
   },
   "labels_anchors": false,
   "latex_user_defs": false,
   "report_style_numbering": false,
   "user_envs_cfg": false
  },
  "toc": {
   "base_numbering": 1,
   "nav_menu": {},
   "number_sections": true,
   "sideBar": true,
   "skip_h1_title": false,
   "title_cell": "Table of Contents",
   "title_sidebar": "Contents",
   "toc_cell": false,
   "toc_position": {},
   "toc_section_display": true,
   "toc_window_display": false
  },
  "varInspector": {
   "cols": {
    "lenName": 16,
    "lenType": 16,
    "lenVar": 40
   },
   "kernels_config": {
    "python": {
     "delete_cmd_postfix": "",
     "delete_cmd_prefix": "del ",
     "library": "var_list.py",
     "varRefreshCmd": "print(var_dic_list())"
    },
    "r": {
     "delete_cmd_postfix": ") ",
     "delete_cmd_prefix": "rm(",
     "library": "var_list.r",
     "varRefreshCmd": "cat(var_dic_list()) "
    }
   },
   "types_to_exclude": [
    "module",
    "function",
    "builtin_function_or_method",
    "instance",
    "_Feature"
   ],
   "window_display": false
  }
 },
 "nbformat": 4,
 "nbformat_minor": 2
}
